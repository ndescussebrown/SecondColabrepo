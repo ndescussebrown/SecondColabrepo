{
  "nbformat": 4,
  "nbformat_minor": 0,
  "metadata": {
    "colab": {
      "name": "functions_2.ipynb",
      "provenance": [],
      "collapsed_sections": [],
      "authorship_tag": "ABX9TyMraXq94FCax8iljTCTb0QV",
      "include_colab_link": true
    },
    "kernelspec": {
      "name": "python3",
      "display_name": "Python 3"
    },
    "language_info": {
      "name": "python"
    }
  },
  "cells": [
    {
      "cell_type": "markdown",
      "metadata": {
        "id": "view-in-github",
        "colab_type": "text"
      },
      "source": [
        "<a href=\"https://colab.research.google.com/github/ndescussebrown/SecondColabrepo/blob/main/functions_2.ipynb\" target=\"_parent\"><img src=\"https://colab.research.google.com/assets/colab-badge.svg\" alt=\"Open In Colab\"/></a>"
      ]
    },
    {
      "cell_type": "markdown",
      "metadata": {
        "id": "l4Fnsbyopfz9"
      },
      "source": [
        "We start by importing our Python script functions.py"
      ]
    },
    {
      "cell_type": "code",
      "metadata": {
        "id": "36PFbfI2lATA"
      },
      "source": [
        "import functions"
      ],
      "execution_count": 7,
      "outputs": []
    },
    {
      "cell_type": "code",
      "metadata": {
        "id": "ojImbG8KmsMl"
      },
      "source": [
        "from functions import print_content01,print_content02,print_content03,my_path"
      ],
      "execution_count": 15,
      "outputs": []
    },
    {
      "cell_type": "code",
      "metadata": {
        "id": "t4wtAFuZpy_5"
      },
      "source": [
        "file_01=print_content01(my_path,'B')"
      ],
      "execution_count": 19,
      "outputs": []
    },
    {
      "cell_type": "code",
      "metadata": {
        "id": "XCcbNRxerE9F"
      },
      "source": [
        "file_02=print_content02(my_path,'B')"
      ],
      "execution_count": 21,
      "outputs": []
    },
    {
      "cell_type": "code",
      "metadata": {
        "id": "Tz4e9_VbrHb0"
      },
      "source": [
        "file_03=print_content02(my_path,'B')"
      ],
      "execution_count": 22,
      "outputs": []
    },
    {
      "cell_type": "code",
      "metadata": {
        "id": "KSOhxmC3rc85"
      },
      "source": [
        "from functions import new_path"
      ],
      "execution_count": 27,
      "outputs": []
    },
    {
      "cell_type": "code",
      "metadata": {
        "colab": {
          "base_uri": "https://localhost:8080/",
          "height": 35
        },
        "id": "nC4wkVxWr6Gp",
        "outputId": "b0645957-7705-43fd-90f7-06b52ce14b88"
      },
      "source": [
        "new_path"
      ],
      "execution_count": 28,
      "outputs": [
        {
          "output_type": "execute_result",
          "data": {
            "application/vnd.google.colaboratory.intrinsic+json": {
              "type": "string"
            },
            "text/plain": [
              "'/content/nothing.txt'"
            ]
          },
          "metadata": {},
          "execution_count": 28
        }
      ]
    }
  ]
}