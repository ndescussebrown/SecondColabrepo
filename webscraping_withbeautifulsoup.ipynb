{
  "nbformat": 4,
  "nbformat_minor": 0,
  "metadata": {
    "colab": {
      "name": "webscraping_withbeautifulsoup.ipynb",
      "provenance": [],
      "collapsed_sections": [],
      "authorship_tag": "ABX9TyOoWb08smG668EbDhTE4IPn",
      "include_colab_link": true
    },
    "kernelspec": {
      "name": "python3",
      "display_name": "Python 3"
    },
    "language_info": {
      "name": "python"
    }
  },
  "cells": [
    {
      "cell_type": "markdown",
      "metadata": {
        "id": "view-in-github",
        "colab_type": "text"
      },
      "source": [
        "<a href=\"https://colab.research.google.com/github/ndescussebrown/SecondColabrepo/blob/main/webscraping_withbeautifulsoup.ipynb\" target=\"_parent\"><img src=\"https://colab.research.google.com/assets/colab-badge.svg\" alt=\"Open In Colab\"/></a>"
      ]
    },
    {
      "cell_type": "markdown",
      "metadata": {
        "id": "ocD5NNHAHFsj"
      },
      "source": [
        "In this notebook, we will be working with web scraping tools such as beautifulsoup"
      ]
    },
    {
      "cell_type": "markdown",
      "metadata": {
        "id": "6xd0d93qIGNN"
      },
      "source": [
        "Some example of how to work with beautifulsoup: [link text](http://webcache.googleusercontent.com/search?q=cache:o1CFsRJ-eMEJ:https://towardsdatascience.com/in-10-minutes-web-scraping-with-beautiful-soup-and-selenium-for-data-professionals-8de169d36319&hl=en&gl=fr&strip=1&vwsrc=0)"
      ]
    },
    {
      "cell_type": "code",
      "metadata": {
        "id": "kOQzGbRGG9V6"
      },
      "source": [
        "#import beautifulsoup package as it was already installed as a package within\n",
        "#colab\n",
        "import bs4, requests\n",
        "from bs4 import BeautifulSoup\n",
        "\n"
      ],
      "execution_count": 6,
      "outputs": []
    },
    {
      "cell_type": "code",
      "metadata": {
        "id": "3Pkyq04HI8C4"
      },
      "source": [
        "# Sending a request to the url. The header is used to spoof the request so that\n",
        "# it looks like it comes from a legitimate browser.\n",
        "headers = {'User-Agent': 'Mozilla/5.0 (Windows NT 6.3; Win64; x64) AppleWebKit/537.36 (KHTML, like Gecko) Chrome/54.0.2840.71 Safari/537.36'}\n",
        "url = \"https://www.rungineer.com/blog-1/2021/5/24/jurassic-coast-half-challenge-or-the-race-that-nearly-killed-my-love-of-hills\"\n",
        "r = requests.get(url, headers=headers)\n"
      ],
      "execution_count": 7,
      "outputs": []
    },
    {
      "cell_type": "code",
      "metadata": {
        "colab": {
          "base_uri": "https://localhost:8080/"
        },
        "id": "G9SKZ7QqPgFb",
        "outputId": "8aae0bb5-9a22-47da-a9a4-d97bd1ccc885"
      },
      "source": [
        "#we need to check the response from the website (200 ok, 404 not found etc)\n",
        "print(r)"
      ],
      "execution_count": 8,
      "outputs": [
        {
          "output_type": "stream",
          "name": "stdout",
          "text": [
            "<Response [200]>\n"
          ]
        }
      ]
    },
    {
      "cell_type": "code",
      "metadata": {
        "id": "A69WRL1nJ48N"
      },
      "source": [
        "#the below code parses the html and retrieve only images\n",
        "soup = BeautifulSoup(r.content, \"html.parser\")\n",
        "images = soup.find_all('img')"
      ],
      "execution_count": 9,
      "outputs": []
    },
    {
      "cell_type": "markdown",
      "metadata": {
        "id": "XK4IhdpZSRPX"
      },
      "source": [
        "But how to access attributes of that tag??"
      ]
    },
    {
      "cell_type": "code",
      "metadata": {
        "id": "820_8ItYJ_7F"
      },
      "source": [
        "#checking parsing of website\n",
        "soup"
      ],
      "execution_count": null,
      "outputs": []
    },
    {
      "cell_type": "code",
      "metadata": {
        "id": "saAFGMhaLmA-"
      },
      "source": [
        "#checking contents of the images variable defined previously\n",
        "images"
      ],
      "execution_count": null,
      "outputs": []
    },
    {
      "cell_type": "code",
      "metadata": {
        "id": "QCNSpPrpR1UC"
      },
      "source": [
        "#creating a loop on images variable to return urls of the images on our website\n",
        "all_images_url=[]\n",
        "for element in images:\n",
        "  print(element.get('data-src'))\n",
        "\n",
        "\n"
      ],
      "execution_count": null,
      "outputs": []
    },
    {
      "cell_type": "code",
      "metadata": {
        "id": "gHZ3hWveVtwG"
      },
      "source": [
        "#defining a function to return urls of the images on our website\n",
        "def extract_url(result_set):\n",
        "  return [element.get('data-src') for element in result_set]"
      ],
      "execution_count": 13,
      "outputs": []
    },
    {
      "cell_type": "code",
      "metadata": {
        "id": "nN-ql0E2WFol"
      },
      "source": [
        "#The below only returns url of the pictures if it exists\n",
        "for element in images:\n",
        "  if element.get('data-src') !=None: \n",
        "    print(element.get('data-src'))"
      ],
      "execution_count": null,
      "outputs": []
    },
    {
      "cell_type": "code",
      "metadata": {
        "id": "Xof6DfQMV5qD"
      },
      "source": [
        "#the above defined function return something for each element even if it doesn't\n",
        "# exist.\n",
        "extract_url(images)"
      ],
      "execution_count": null,
      "outputs": []
    },
    {
      "cell_type": "code",
      "metadata": {
        "id": "LNF2yyXqYSij"
      },
      "source": [
        "#improving on the previous function to return urls only for the elements of images where they exist:\n",
        "def extract_url_2(result_set):\n",
        "  return [element.get('src') for element in result_set if (element.get('src') is not None) ]"
      ],
      "execution_count": 16,
      "outputs": []
    },
    {
      "cell_type": "code",
      "metadata": {
        "id": "-IJ7kAmZZEO7"
      },
      "source": [
        "url2_images=extract_url_2(images)"
      ],
      "execution_count": 17,
      "outputs": []
    },
    {
      "cell_type": "code",
      "metadata": {
        "id": "PcvaHil9geIC"
      },
      "source": [
        "soup_apec = BeautifulSoup(r_apec.content, \"html.parser\")\n",
        "jobs = soup_apec.find_all('h2')"
      ],
      "execution_count": 19,
      "outputs": []
    },
    {
      "cell_type": "markdown",
      "metadata": {
        "id": "vYcGD81Tsa2p"
      },
      "source": [
        "Try the above to fakejobs website: [link text](https://realpython.github.io/fake-jobs/)"
      ]
    },
    {
      "cell_type": "code",
      "metadata": {
        "id": "FIrz_HA6kOjF"
      },
      "source": [
        "url_fakejobs = 'https://realpython.github.io/fake-jobs/'\n",
        "r_fakejobs = requests.get(url_fakejobs, headers=headers)"
      ],
      "execution_count": 20,
      "outputs": []
    },
    {
      "cell_type": "code",
      "metadata": {
        "id": "Tg730ScEkacc"
      },
      "source": [
        "soup_fakejobs = BeautifulSoup(r_fakejobs.content, \"html.parser\")\n",
        "fake_jobs_h2 = soup_fakejobs.find_all('h2')\n",
        "fake_jobs_h3 = soup_fakejobs.find_all('h3')"
      ],
      "execution_count": 218,
      "outputs": []
    },
    {
      "cell_type": "code",
      "metadata": {
        "colab": {
          "base_uri": "https://localhost:8080/"
        },
        "id": "CZULpwv2iznS",
        "outputId": "b10902b0-fcba-4064-b305-c02178e19f52"
      },
      "source": [
        "#check response from website apec\n",
        "print(r_fakejobs)"
      ],
      "execution_count": 188,
      "outputs": [
        {
          "output_type": "stream",
          "name": "stdout",
          "text": [
            "<Response [200]>\n"
          ]
        }
      ]
    },
    {
      "cell_type": "code",
      "metadata": {
        "id": "GV-8cuLPoAm-"
      },
      "source": [
        "fake_jobs_h2"
      ],
      "execution_count": null,
      "outputs": []
    },
    {
      "cell_type": "code",
      "metadata": {
        "id": "IDrf5ct4giON"
      },
      "source": [
        "def extract_url_fakejobs(result_set):\n",
        "  return [element.string for element in result_set]"
      ],
      "execution_count": 211,
      "outputs": []
    },
    {
      "cell_type": "code",
      "metadata": {
        "id": "7_U4t__lmU_g"
      },
      "source": [
        "extract_url_fakejobs(fake_jobs)"
      ],
      "execution_count": null,
      "outputs": []
    },
    {
      "cell_type": "markdown",
      "metadata": {
        "id": "s3cpxSf8qTcj"
      },
      "source": [
        "We now want to put the contents of our scraping (jobs and company) in a dictionary"
      ]
    },
    {
      "cell_type": "code",
      "metadata": {
        "id": "ZX7tpZJ4h-QM"
      },
      "source": [
        "my_dict={}"
      ],
      "execution_count": 251,
      "outputs": []
    },
    {
      "cell_type": "code",
      "metadata": {
        "id": "BnmIwPl0k7Ah"
      },
      "source": [
        "#def dict_fakejobs:\n",
        "for i in range(len(fake_jobs_h2)):\n",
        "   key=fake_jobs_h2[i].text + '_' + str(i)\n",
        "   value=fake_jobs_h3[i].text\n",
        "   my_dict[key]=value"
      ],
      "execution_count": 252,
      "outputs": []
    },
    {
      "cell_type": "code",
      "metadata": {
        "id": "Og1zag8apxJK"
      },
      "source": [
        "my_dict"
      ],
      "execution_count": null,
      "outputs": []
    },
    {
      "cell_type": "code",
      "metadata": {
        "id": "LQ_9_T_UrgCa"
      },
      "source": [
        "fake_jobs_img = soup_fakejobs.find_all('img')"
      ],
      "execution_count": 254,
      "outputs": []
    },
    {
      "cell_type": "code",
      "metadata": {
        "id": "K33WsnDhrikH"
      },
      "source": [
        "#We can call the function previously defined to find all pictures on the site\n",
        "extract_url_2(fake_jobs_img)"
      ],
      "execution_count": null,
      "outputs": []
    },
    {
      "cell_type": "code",
      "metadata": {
        "id": "iKTiY1KSr_-a"
      },
      "source": [
        "#Here is how to list all keys for a dictionary\n",
        "my_dict.keys()"
      ],
      "execution_count": null,
      "outputs": []
    },
    {
      "cell_type": "markdown",
      "metadata": {
        "id": "VvXanDjW2d3e"
      },
      "source": [
        "we now want to put our webscraping output into a dataframe"
      ]
    },
    {
      "cell_type": "code",
      "metadata": {
        "id": "tzBKR3u82c_d"
      },
      "source": [
        "import pandas as pd"
      ],
      "execution_count": 3,
      "outputs": []
    },
    {
      "cell_type": "code",
      "metadata": {
        "colab": {
          "base_uri": "https://localhost:8080/",
          "height": 166
        },
        "id": "rQ1Y_nUX2sWK",
        "outputId": "1991a5b0-9ec3-4f66-e1d0-314b484bb670"
      },
      "source": [
        "rungineer_df=pd.DataFrame(url2_images)"
      ],
      "execution_count": 4,
      "outputs": [
        {
          "output_type": "error",
          "ename": "NameError",
          "evalue": "ignored",
          "traceback": [
            "\u001b[0;31m---------------------------------------------------------------------------\u001b[0m",
            "\u001b[0;31mNameError\u001b[0m                                 Traceback (most recent call last)",
            "\u001b[0;32m<ipython-input-4-fb5ab7f844f3>\u001b[0m in \u001b[0;36m<module>\u001b[0;34m()\u001b[0m\n\u001b[0;32m----> 1\u001b[0;31m \u001b[0mrungineer_df\u001b[0m\u001b[0;34m=\u001b[0m\u001b[0mpd\u001b[0m\u001b[0;34m.\u001b[0m\u001b[0mDataFrame\u001b[0m\u001b[0;34m(\u001b[0m\u001b[0murl2_images\u001b[0m\u001b[0;34m)\u001b[0m\u001b[0;34m\u001b[0m\u001b[0;34m\u001b[0m\u001b[0m\n\u001b[0m",
            "\u001b[0;31mNameError\u001b[0m: name 'url2_images' is not defined"
          ]
        }
      ]
    },
    {
      "cell_type": "code",
      "metadata": {
        "id": "uYTR9N8X4L-r"
      },
      "source": [
        "rungineer_df.columns=['image_url']"
      ],
      "execution_count": 284,
      "outputs": []
    },
    {
      "cell_type": "code",
      "metadata": {
        "colab": {
          "base_uri": "https://localhost:8080/",
          "height": 300
        },
        "id": "9zTn6rdB3Sya",
        "outputId": "840264dc-25a8-4d4a-fe73-78ece2cb3b92"
      },
      "source": [
        "rungineer_df"
      ],
      "execution_count": 285,
      "outputs": [
        {
          "output_type": "execute_result",
          "data": {
            "text/html": [
              "<div>\n",
              "<style scoped>\n",
              "    .dataframe tbody tr th:only-of-type {\n",
              "        vertical-align: middle;\n",
              "    }\n",
              "\n",
              "    .dataframe tbody tr th {\n",
              "        vertical-align: top;\n",
              "    }\n",
              "\n",
              "    .dataframe thead th {\n",
              "        text-align: right;\n",
              "    }\n",
              "</style>\n",
              "<table border=\"1\" class=\"dataframe\">\n",
              "  <thead>\n",
              "    <tr style=\"text-align: right;\">\n",
              "      <th></th>\n",
              "      <th>image_url</th>\n",
              "    </tr>\n",
              "  </thead>\n",
              "  <tbody>\n",
              "    <tr>\n",
              "      <th>0</th>\n",
              "      <td>https://images.squarespace-cdn.com/content/v1/...</td>\n",
              "    </tr>\n",
              "    <tr>\n",
              "      <th>1</th>\n",
              "      <td>https://images.squarespace-cdn.com/content/v1/...</td>\n",
              "    </tr>\n",
              "    <tr>\n",
              "      <th>2</th>\n",
              "      <td>https://images.squarespace-cdn.com/content/v1/...</td>\n",
              "    </tr>\n",
              "    <tr>\n",
              "      <th>3</th>\n",
              "      <td>https://images.squarespace-cdn.com/content/v1/...</td>\n",
              "    </tr>\n",
              "    <tr>\n",
              "      <th>4</th>\n",
              "      <td>https://images.squarespace-cdn.com/content/v1/...</td>\n",
              "    </tr>\n",
              "    <tr>\n",
              "      <th>5</th>\n",
              "      <td>https://images.squarespace-cdn.com/content/v1/...</td>\n",
              "    </tr>\n",
              "    <tr>\n",
              "      <th>6</th>\n",
              "      <td>https://images.squarespace-cdn.com/content/v1/...</td>\n",
              "    </tr>\n",
              "    <tr>\n",
              "      <th>7</th>\n",
              "      <td>https://images.squarespace-cdn.com/content/v1/...</td>\n",
              "    </tr>\n",
              "  </tbody>\n",
              "</table>\n",
              "</div>"
            ],
            "text/plain": [
              "                                           image_url\n",
              "0  https://images.squarespace-cdn.com/content/v1/...\n",
              "1  https://images.squarespace-cdn.com/content/v1/...\n",
              "2  https://images.squarespace-cdn.com/content/v1/...\n",
              "3  https://images.squarespace-cdn.com/content/v1/...\n",
              "4  https://images.squarespace-cdn.com/content/v1/...\n",
              "5  https://images.squarespace-cdn.com/content/v1/...\n",
              "6  https://images.squarespace-cdn.com/content/v1/...\n",
              "7  https://images.squarespace-cdn.com/content/v1/..."
            ]
          },
          "metadata": {},
          "execution_count": 285
        }
      ]
    },
    {
      "cell_type": "markdown",
      "metadata": {
        "id": "ei2vMMDsflTW"
      },
      "source": [
        "####Try the above to APEC website: https://www.apec.fr"
      ]
    },
    {
      "cell_type": "markdown",
      "metadata": {
        "id": "XyTlsfXcoYC7"
      },
      "source": [
        "We want to build a function that returns all jobs from the apec site that\n",
        "match specific keywords as defined below."
      ]
    },
    {
      "cell_type": "code",
      "metadata": {
        "id": "8-F_kEu6pjRl"
      },
      "source": [
        "#import required libraries\n",
        "import bs4,requests\n",
        "from bs4 import BeautifulSoup"
      ],
      "execution_count": 46,
      "outputs": []
    },
    {
      "cell_type": "markdown",
      "metadata": {
        "id": "atKtK6Afok3n"
      },
      "source": [
        "1. First step is to build the url of the page we want to access based on the \n",
        "keywords specified."
      ]
    },
    {
      "cell_type": "code",
      "metadata": {
        "id": "lfGaahaEgB1-"
      },
      "source": [
        "#We look for a specific job within the apec page and search for specific key words\n",
        "keywords=['data','engineer']\n",
        "str_keywords = '%20'.join(keywords)"
      ],
      "execution_count": 22,
      "outputs": []
    },
    {
      "cell_type": "code",
      "metadata": {
        "id": "sRNf58oRmXUU"
      },
      "source": [
        "#we build the url required\n",
        "url_apec_base='https://www.apec.fr/candidat/recherche-emploi.html/emploi?motsCles='\n",
        "url_apec_end='&page='\n",
        "url_apec=url_apec_base + str_keywords + url_apec_end"
      ],
      "execution_count": 27,
      "outputs": []
    },
    {
      "cell_type": "code",
      "metadata": {
        "colab": {
          "base_uri": "https://localhost:8080/",
          "height": 35
        },
        "id": "CZ_YZilQmQNP",
        "outputId": "ab6a652c-c5b5-41bb-e2ba-552eb25dc51a"
      },
      "source": [
        "#we check we have the right url:\n",
        "url_apec"
      ],
      "execution_count": 28,
      "outputs": [
        {
          "output_type": "execute_result",
          "data": {
            "application/vnd.google.colaboratory.intrinsic+json": {
              "type": "string"
            },
            "text/plain": [
              "'https://www.apec.fr/candidat/recherche-emploi.html/emploi?motsCles=data%20engineer&page='"
            ]
          },
          "metadata": {},
          "execution_count": 28
        }
      ]
    },
    {
      "cell_type": "code",
      "metadata": {
        "id": "c1FU2LxPfzwH"
      },
      "source": [
        "# Sending a request to the url. The header is used to spoof the request so that\n",
        "# it looks like it comes from a legitimate browser.\n",
        "headers = {'User-Agent': 'Mozilla/5.0 (Windows NT 6.3; Win64; x64) AppleWebKit/537.36 (KHTML, like Gecko) Chrome/54.0.2840.71 Safari/537.36'}\n"
      ],
      "execution_count": 26,
      "outputs": []
    },
    {
      "cell_type": "code",
      "metadata": {
        "id": "qbDgpsqam_Sq"
      },
      "source": [
        "#we use the page number to define thge url. Careful that on this website the\n",
        "#first page is actually page 0, not page 1. Here we test the built of the url\n",
        "#to check it is working.\n",
        "page_number=1\n",
        "url=url_apec + str(page_number)"
      ],
      "execution_count": 41,
      "outputs": []
    },
    {
      "cell_type": "code",
      "metadata": {
        "colab": {
          "base_uri": "https://localhost:8080/",
          "height": 35
        },
        "id": "pfy6z_rInhoK",
        "outputId": "21e775b5-92ae-4182-ab25-7421dd891b77"
      },
      "source": [
        "#we check that we are landing on the page we want\n",
        "url"
      ],
      "execution_count": 40,
      "outputs": [
        {
          "output_type": "execute_result",
          "data": {
            "application/vnd.google.colaboratory.intrinsic+json": {
              "type": "string"
            },
            "text/plain": [
              "'https://www.apec.fr/candidat/recherche-emploi.html/emploi?motsCles=data%20engineer&page=1'"
            ]
          },
          "metadata": {},
          "execution_count": 40
        }
      ]
    },
    {
      "cell_type": "markdown",
      "metadata": {
        "id": "hGKQLLVhovj7"
      },
      "source": [
        "2. We now want to loop on the various pages returned for our search to return all results."
      ]
    },
    {
      "cell_type": "code",
      "metadata": {
        "id": "-9ebxipvpAT3"
      },
      "source": [
        "#we create a request to the url defined above.\n",
        "r_apec = requests.get(url, headers=headers)\n",
        "\n"
      ],
      "execution_count": 50,
      "outputs": []
    },
    {
      "cell_type": "code",
      "metadata": {
        "colab": {
          "base_uri": "https://localhost:8080/"
        },
        "id": "lkWOZRa5qPoe",
        "outputId": "9365624e-e07a-4a0a-91f4-b6225f742600"
      },
      "source": [
        "#we check the response from the website and check it is 200\n",
        "r_apec"
      ],
      "execution_count": 51,
      "outputs": [
        {
          "output_type": "execute_result",
          "data": {
            "text/plain": [
              "<Response [200]>"
            ]
          },
          "metadata": {},
          "execution_count": 51
        }
      ]
    },
    {
      "cell_type": "code",
      "metadata": {
        "id": "ZwLM1X6aqbr-"
      },
      "source": [
        "soup_apec = BeautifulSoup(r_apec.content, \"html.parser\")"
      ],
      "execution_count": 52,
      "outputs": []
    },
    {
      "cell_type": "code",
      "metadata": {
        "colab": {
          "base_uri": "https://localhost:8080/"
        },
        "id": "CLi536DIqj5v",
        "outputId": "98bcc2c0-efe6-4481-ca0d-8673da42d39b"
      },
      "source": [
        "#The below doesn't work to find the job titles although when inspecting the\n",
        "#website job title is associated with h2. Reason is that the website is\n",
        "#dynamic, so in this case beautifulsoup will not help us find what we need.\n",
        "#we need to use a different tool.\n",
        "soup_apec.find_all('h2')"
      ],
      "execution_count": 56,
      "outputs": [
        {
          "output_type": "execute_result",
          "data": {
            "text/plain": [
              "[]"
            ]
          },
          "metadata": {},
          "execution_count": 56
        }
      ]
    },
    {
      "cell_type": "code",
      "metadata": {
        "id": "4d3OFLmGr9wT"
      },
      "source": [
        "#So we will try to use another tool adapted to dynamic websites, selenium.\n",
        "#First we need to install the package\n",
        "!pip install selenium"
      ],
      "execution_count": null,
      "outputs": []
    },
    {
      "cell_type": "code",
      "metadata": {
        "id": "XJx8Rej2s1JR"
      },
      "source": [
        "#Now we import selenium.\n",
        "import selenium"
      ],
      "execution_count": 60,
      "outputs": []
    }
  ]
}