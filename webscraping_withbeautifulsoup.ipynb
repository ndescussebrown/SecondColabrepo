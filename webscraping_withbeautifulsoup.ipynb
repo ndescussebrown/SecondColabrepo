{
  "nbformat": 4,
  "nbformat_minor": 0,
  "metadata": {
    "colab": {
      "name": "webscraping_withbeautifulsoup.ipynb",
      "provenance": [],
      "collapsed_sections": [],
      "authorship_tag": "ABX9TyNsMd/gr8bvKHp5JVfP670y",
      "include_colab_link": true
    },
    "kernelspec": {
      "name": "python3",
      "display_name": "Python 3"
    },
    "language_info": {
      "name": "python"
    }
  },
  "cells": [
    {
      "cell_type": "markdown",
      "metadata": {
        "id": "view-in-github",
        "colab_type": "text"
      },
      "source": [
        "<a href=\"https://colab.research.google.com/github/ndescussebrown/SecondColabrepo/blob/main/webscraping_withbeautifulsoup.ipynb\" target=\"_parent\"><img src=\"https://colab.research.google.com/assets/colab-badge.svg\" alt=\"Open In Colab\"/></a>"
      ]
    },
    {
      "cell_type": "markdown",
      "metadata": {
        "id": "ocD5NNHAHFsj"
      },
      "source": [
        "In this notebook, we will be working with web scraping tools such as beautifulsoup"
      ]
    },
    {
      "cell_type": "markdown",
      "metadata": {
        "id": "6xd0d93qIGNN"
      },
      "source": [
        "Some example of how to work with beautifulsoup: [link text](http://webcache.googleusercontent.com/search?q=cache:o1CFsRJ-eMEJ:https://towardsdatascience.com/in-10-minutes-web-scraping-with-beautiful-soup-and-selenium-for-data-professionals-8de169d36319&hl=en&gl=fr&strip=1&vwsrc=0)"
      ]
    },
    {
      "cell_type": "code",
      "metadata": {
        "id": "kOQzGbRGG9V6"
      },
      "source": [
        "#import beautifulsoup package as it was already installed as a package within\n",
        "#colab\n",
        "import bs4, requests\n",
        "from bs4 import BeautifulSoup\n",
        "\n"
      ],
      "execution_count": 14,
      "outputs": []
    },
    {
      "cell_type": "code",
      "metadata": {
        "id": "3Pkyq04HI8C4"
      },
      "source": [
        "# Sending a request to the url. The header is used to spoof the request so that\n",
        "# it looks like it comes from a legitimate browser.\n",
        "headers = {'User-Agent': 'Mozilla/5.0 (Windows NT 6.3; Win64; x64) AppleWebKit/537.36 (KHTML, like Gecko) Chrome/54.0.2840.71 Safari/537.36'}\n",
        "url = \"https://www.rungineer.com/blog-1/2021/5/24/jurassic-coast-half-challenge-or-the-race-that-nearly-killed-my-love-of-hills\"\n",
        "r = requests.get(url, headers=headers)\n"
      ],
      "execution_count": 107,
      "outputs": []
    },
    {
      "cell_type": "code",
      "metadata": {
        "colab": {
          "base_uri": "https://localhost:8080/"
        },
        "id": "G9SKZ7QqPgFb",
        "outputId": "5a82378c-60f8-45d8-b6ad-cd3e74ee7e98"
      },
      "source": [
        "#we need to check the response from the website (200 ok, 404 not found etc)\n",
        "print(r)"
      ],
      "execution_count": 108,
      "outputs": [
        {
          "output_type": "stream",
          "name": "stdout",
          "text": [
            "<Response [200]>\n"
          ]
        }
      ]
    },
    {
      "cell_type": "code",
      "metadata": {
        "id": "A69WRL1nJ48N"
      },
      "source": [
        "#the below code parses the html and retrieve only images\n",
        "soup = BeautifulSoup(r.content, \"html.parser\")\n",
        "images = soup.find_all('img')"
      ],
      "execution_count": 159,
      "outputs": []
    },
    {
      "cell_type": "markdown",
      "metadata": {
        "id": "XK4IhdpZSRPX"
      },
      "source": [
        "But how to access attributes of that tag??"
      ]
    },
    {
      "cell_type": "code",
      "metadata": {
        "id": "820_8ItYJ_7F"
      },
      "source": [
        "#checking parsing of website\n",
        "soup"
      ],
      "execution_count": null,
      "outputs": []
    },
    {
      "cell_type": "code",
      "metadata": {
        "id": "saAFGMhaLmA-"
      },
      "source": [
        "#checking contents of the images variable defined previously\n",
        "images"
      ],
      "execution_count": null,
      "outputs": []
    },
    {
      "cell_type": "code",
      "metadata": {
        "id": "QCNSpPrpR1UC"
      },
      "source": [
        "#creating a loop on images variable to return urls of the images on our website\n",
        "all_images_url=[]\n",
        "for element in images:\n",
        "  print(element.get('data-src'))\n",
        "\n",
        "\n"
      ],
      "execution_count": null,
      "outputs": []
    },
    {
      "cell_type": "code",
      "metadata": {
        "id": "gHZ3hWveVtwG"
      },
      "source": [
        "#defining a function to return urls of the images on our website\n",
        "def extract_url(result_set):\n",
        "  return [element.get('data-src') for element in result_set]"
      ],
      "execution_count": 152,
      "outputs": []
    },
    {
      "cell_type": "code",
      "metadata": {
        "colab": {
          "base_uri": "https://localhost:8080/"
        },
        "id": "nN-ql0E2WFol",
        "outputId": "6b3d8cc7-bed1-45b4-af14-30fdca314261"
      },
      "source": [
        "#The below only returns url of the pictures if it exists\n",
        "for element in images:\n",
        "  if element.get('data-src') !=None: \n",
        "    print(element.get('data-src'))"
      ],
      "execution_count": 149,
      "outputs": [
        {
          "output_type": "stream",
          "name": "stdout",
          "text": [
            "https://images.squarespace-cdn.com/content/v1/5a9288481137a6fdeeb6e5ab/1622229780493-KBKBTBO4TOAMH636917Q/IMG_9482.jpeg\n",
            "https://images.squarespace-cdn.com/content/v1/5a9288481137a6fdeeb6e5ab/1622202599531-63H1LKT9RPUN51T72FC9/IMG_9486.jpg\n",
            "https://images.squarespace-cdn.com/content/v1/5a9288481137a6fdeeb6e5ab/1622202786052-ZSZTOIQJF3JL6GVTFV4D/IMG_9487.jpg\n",
            "https://images.squarespace-cdn.com/content/v1/5a9288481137a6fdeeb6e5ab/1622202082435-E1RD238QOUO3LRQBTRRN/IMG_9488.jpg\n",
            "https://images.squarespace-cdn.com/content/v1/5a9288481137a6fdeeb6e5ab/1622202475398-6GFNXV3NVX9J7CJAG9PK/IMG_9489.jpg\n",
            "https://images.squarespace-cdn.com/content/v1/5a9288481137a6fdeeb6e5ab/1622203773606-IGMYUWC253WVNWLYRDVZ/IMG_9492.jpg\n",
            "https://images.squarespace-cdn.com/content/v1/5a9288481137a6fdeeb6e5ab/1622235350981-SL9CPV3739W7LI4LMNK0/IMG_9532.jpeg\n",
            "https://images.squarespace-cdn.com/content/v1/5a9288481137a6fdeeb6e5ab/1622203114831-R13KBXD827AQC6G4KWZ4/IMG_9490.jpg\n"
          ]
        }
      ]
    },
    {
      "cell_type": "code",
      "metadata": {
        "colab": {
          "base_uri": "https://localhost:8080/"
        },
        "id": "Xof6DfQMV5qD",
        "outputId": "24181757-79c5-41b2-ef54-ebaed74bae80"
      },
      "source": [
        "#the above defined function return something for each element even if it doesn't\n",
        "# exist.\n",
        "extract_url(images)"
      ],
      "execution_count": 151,
      "outputs": [
        {
          "output_type": "execute_result",
          "data": {
            "text/plain": [
              "[None,\n",
              " 'https://images.squarespace-cdn.com/content/v1/5a9288481137a6fdeeb6e5ab/1622229780493-KBKBTBO4TOAMH636917Q/IMG_9482.jpeg',\n",
              " None,\n",
              " 'https://images.squarespace-cdn.com/content/v1/5a9288481137a6fdeeb6e5ab/1622202599531-63H1LKT9RPUN51T72FC9/IMG_9486.jpg',\n",
              " None,\n",
              " 'https://images.squarespace-cdn.com/content/v1/5a9288481137a6fdeeb6e5ab/1622202786052-ZSZTOIQJF3JL6GVTFV4D/IMG_9487.jpg',\n",
              " None,\n",
              " 'https://images.squarespace-cdn.com/content/v1/5a9288481137a6fdeeb6e5ab/1622202082435-E1RD238QOUO3LRQBTRRN/IMG_9488.jpg',\n",
              " None,\n",
              " 'https://images.squarespace-cdn.com/content/v1/5a9288481137a6fdeeb6e5ab/1622202475398-6GFNXV3NVX9J7CJAG9PK/IMG_9489.jpg',\n",
              " None,\n",
              " 'https://images.squarespace-cdn.com/content/v1/5a9288481137a6fdeeb6e5ab/1622203773606-IGMYUWC253WVNWLYRDVZ/IMG_9492.jpg',\n",
              " None,\n",
              " 'https://images.squarespace-cdn.com/content/v1/5a9288481137a6fdeeb6e5ab/1622235350981-SL9CPV3739W7LI4LMNK0/IMG_9532.jpeg',\n",
              " None,\n",
              " 'https://images.squarespace-cdn.com/content/v1/5a9288481137a6fdeeb6e5ab/1622203114831-R13KBXD827AQC6G4KWZ4/IMG_9490.jpg']"
            ]
          },
          "metadata": {},
          "execution_count": 151
        }
      ]
    },
    {
      "cell_type": "code",
      "metadata": {
        "id": "LNF2yyXqYSij"
      },
      "source": [
        "#improving on the previous function to return urls only for the elements of images where they exist:\n",
        "def extract_url_2(result_set):\n",
        "  return [element.get('data-src') for element in result_set if (element.get('data-src') is not None) ]"
      ],
      "execution_count": 164,
      "outputs": []
    },
    {
      "cell_type": "code",
      "metadata": {
        "colab": {
          "base_uri": "https://localhost:8080/"
        },
        "id": "-IJ7kAmZZEO7",
        "outputId": "38ac9a58-b9ef-48a4-824f-df273256289b"
      },
      "source": [
        "extract_url_2(images)"
      ],
      "execution_count": 165,
      "outputs": [
        {
          "output_type": "execute_result",
          "data": {
            "text/plain": [
              "['https://images.squarespace-cdn.com/content/v1/5a9288481137a6fdeeb6e5ab/1622229780493-KBKBTBO4TOAMH636917Q/IMG_9482.jpeg',\n",
              " 'https://images.squarespace-cdn.com/content/v1/5a9288481137a6fdeeb6e5ab/1622202599531-63H1LKT9RPUN51T72FC9/IMG_9486.jpg',\n",
              " 'https://images.squarespace-cdn.com/content/v1/5a9288481137a6fdeeb6e5ab/1622202786052-ZSZTOIQJF3JL6GVTFV4D/IMG_9487.jpg',\n",
              " 'https://images.squarespace-cdn.com/content/v1/5a9288481137a6fdeeb6e5ab/1622202082435-E1RD238QOUO3LRQBTRRN/IMG_9488.jpg',\n",
              " 'https://images.squarespace-cdn.com/content/v1/5a9288481137a6fdeeb6e5ab/1622202475398-6GFNXV3NVX9J7CJAG9PK/IMG_9489.jpg',\n",
              " 'https://images.squarespace-cdn.com/content/v1/5a9288481137a6fdeeb6e5ab/1622203773606-IGMYUWC253WVNWLYRDVZ/IMG_9492.jpg',\n",
              " 'https://images.squarespace-cdn.com/content/v1/5a9288481137a6fdeeb6e5ab/1622235350981-SL9CPV3739W7LI4LMNK0/IMG_9532.jpeg',\n",
              " 'https://images.squarespace-cdn.com/content/v1/5a9288481137a6fdeeb6e5ab/1622203114831-R13KBXD827AQC6G4KWZ4/IMG_9490.jpg']"
            ]
          },
          "metadata": {},
          "execution_count": 165
        }
      ]
    }
  ]
}